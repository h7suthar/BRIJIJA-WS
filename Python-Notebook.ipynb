{
 "cells": [
  {
   "cell_type": "markdown",
   "id": "b25dc97b",
   "metadata": {},
   "source": [
    "# BRIJ-TUTOURIAL's..."
   ]
  },
  {
   "cell_type": "markdown",
   "id": "31dc5a86",
   "metadata": {},
   "source": [
    "## Multiple Chioce Questions...\n",
    "### Week 2\n",
    "\n",
    "\n",
    "#### 1. What will be the output of the following Python code?"
   ]
  },
  {
   "cell_type": "code",
   "execution_count": 1,
   "id": "c67184a9",
   "metadata": {},
   "outputs": [
    {
     "name": "stdout",
     "output_type": "stream",
     "text": [
      "['Welcome', 'to', 'the', 'Python']\n"
     ]
    }
   ],
   "source": [
    "print(\"Welcome to the Python\".split())"
   ]
  },
  {
   "cell_type": "markdown",
   "id": "db9af661",
   "metadata": {},
   "source": [
    "#### 2. What will be the output of following code snippet?"
   ]
  },
  {
   "cell_type": "code",
   "execution_count": 2,
   "id": "5ac771e9",
   "metadata": {},
   "outputs": [
    {
     "name": "stdout",
     "output_type": "stream",
     "text": [
      "paraparamesh\n",
      "parameshparamesh\n",
      "True\n",
      "False\n"
     ]
    }
   ],
   "source": [
    "s = 'para'\n",
    "t = 'mesh'\n",
    "print(2*s+t)\n",
    "print(2*(s+t))\n",
    "print('meshra' in 2*t + 'ramesh')\n",
    "print('Ramesh' in 2*s+t)"
   ]
  },
  {
   "cell_type": "markdown",
   "id": "7c85dcf2",
   "metadata": {},
   "source": [
    "#### 3. What is the output from this print() function call:"
   ]
  },
  {
   "cell_type": "code",
   "execution_count": 3,
   "id": "210a7a34",
   "metadata": {},
   "outputs": [
    {
     "name": "stdout",
     "output_type": "stream",
     "text": [
      "3 1 2\n"
     ]
    }
   ],
   "source": [
    "print(\n",
    "'$Hai $Bye $Wei'.count('$'),\n",
    "'$Cat $Dog $mad'.count('$',5,10),\n",
    "'$New $USE $FAQ300'.count('$',5),\n",
    ")"
   ]
  },
  {
   "cell_type": "markdown",
   "id": "7c9ad828",
   "metadata": {},
   "source": [
    "#### 4. Write the output of the following statement."
   ]
  },
  {
   "cell_type": "code",
   "execution_count": 4,
   "id": "dba41e0c",
   "metadata": {},
   "outputs": [
    {
     "name": "stdout",
     "output_type": "stream",
     "text": [
      "T\n",
      "T T#&\n",
      "& &#P\n",
      "P P#"
     ]
    }
   ],
   "source": [
    "str1 = \"T&P\"\n",
    "for i in str1:\n",
    "    print(i)\n",
    "    print(i, end =' ')\n",
    "    print(i, end = '#')"
   ]
  },
  {
   "cell_type": "markdown",
   "id": "570cdf94",
   "metadata": {},
   "source": [
    "#### 5. Write the output of the following."
   ]
  },
  {
   "cell_type": "code",
   "execution_count": 5,
   "id": "52430578",
   "metadata": {},
   "outputs": [
    {
     "name": "stdout",
     "output_type": "stream",
     "text": [
      "l\n",
      "lcome to\n",
      "og\n",
      "t yB\n"
     ]
    }
   ],
   "source": [
    "S = \"Welcome to my Blog\"\n",
    "print(S[2:3])\n",
    "print(S[2:10])\n",
    "print(S[-2:])\n",
    "print(S[-10:-2:2])"
   ]
  },
  {
   "cell_type": "markdown",
   "id": "d10cc249",
   "metadata": {},
   "source": [
    "#### 6. Write the output of following."
   ]
  },
  {
   "cell_type": "code",
   "execution_count": 6,
   "id": "8f64bbe1",
   "metadata": {},
   "outputs": [
    {
     "name": "stdout",
     "output_type": "stream",
     "text": [
      "6\n",
      "13\n",
      "12\n"
     ]
    }
   ],
   "source": [
    "str1 = \"PYTHON\"\n",
    "print(len(str1))\n",
    "str2 = \" WE ARE BEST \"\n",
    "print(len(str2))\n",
    "print(len(str2.lstrip()))"
   ]
  },
  {
   "cell_type": "markdown",
   "id": "b8bb6c08",
   "metadata": {},
   "source": [
    "#### 7. Write the output of following."
   ]
  },
  {
   "cell_type": "code",
   "execution_count": 8,
   "id": "5092fb54",
   "metadata": {},
   "outputs": [
    {
     "name": "stdout",
     "output_type": "stream",
     "text": [
      "I went to Chennai\n",
      "I went to Mumbai\n"
     ]
    }
   ],
   "source": [
    "str1 = \"I went to Mumbai\"\n",
    "print(str1.replace(\"Mumbai\",\"Chennai\"))\n",
    "print(str1)"
   ]
  },
  {
   "cell_type": "markdown",
   "id": "7e5ea655",
   "metadata": {},
   "source": [
    "#### 8. Write the output of the following:"
   ]
  },
  {
   "cell_type": "code",
   "execution_count": 10,
   "id": "f78b3db1",
   "metadata": {},
   "outputs": [
    {
     "name": "stdout",
     "output_type": "stream",
     "text": [
      "PYTHON SESSION\n",
      "python session\n",
      "False\n",
      "False\n",
      "False\n",
      "False\n",
      "Python session\n"
     ]
    }
   ],
   "source": [
    "s = \"Python Session\"\n",
    "print(s.upper())\n",
    "print(s.lower())\n",
    "print(s.islower())\n",
    "print(s.isupper())\n",
    "print(s.isalpha())\n",
    "print(s.isdigit())\n",
    "print(s.capitalize())"
   ]
  },
  {
   "cell_type": "markdown",
   "id": "5f26102a",
   "metadata": {},
   "source": [
    "#### 9. Which of the following is an concatenation?\n",
    "\n",
    "a. 6 + 3\n",
    "\n",
    "b. '6' + '3'\n",
    "\n",
    "c. 'a' + 'b' + 'c'"
   ]
  },
  {
   "cell_type": "code",
   "execution_count": 11,
   "id": "09258a88",
   "metadata": {},
   "outputs": [
    {
     "data": {
      "text/plain": [
       "'abc'"
      ]
     },
     "execution_count": 11,
     "metadata": {},
     "output_type": "execute_result"
    }
   ],
   "source": [
    "'a' + 'b' + 'c'"
   ]
  },
  {
   "cell_type": "markdown",
   "id": "ab02584e",
   "metadata": {},
   "source": [
    "#### 10. What will be the output of the following code?"
   ]
  },
  {
   "cell_type": "code",
   "execution_count": 12,
   "id": "003d6051",
   "metadata": {},
   "outputs": [
    {
     "name": "stdout",
     "output_type": "stream",
     "text": [
      "0\n",
      "1\n",
      "2\n",
      "3\n"
     ]
    }
   ],
   "source": [
    "x = \"abcd\"\n",
    "for i in range(len(x)):\n",
    "    print(i)"
   ]
  },
  {
   "cell_type": "markdown",
   "id": "ec9eee62",
   "metadata": {},
   "source": [
    "### Week 3\n",
    "\n",
    "#### 8. str1[n:m] returns all the characters starting from str1[n] till str1[m-1]. (T/F)\n",
    "#### True"
   ]
  },
  {
   "cell_type": "markdown",
   "id": "00e3f7ec",
   "metadata": {},
   "source": [
    "#### 9. str[11:5] will return ______\n",
    "\n",
    "#### empty string"
   ]
  },
  {
   "cell_type": "code",
   "execution_count": 17,
   "id": "a883b544",
   "metadata": {},
   "outputs": [
    {
     "name": "stdout",
     "output_type": "stream",
     "text": [
      "\n"
     ]
    }
   ],
   "source": []
  },
  {
   "cell_type": "code",
   "execution_count": null,
   "id": "13c37750",
   "metadata": {},
   "outputs": [],
   "source": []
  }
 ],
 "metadata": {
  "kernelspec": {
   "display_name": "Python 3 (ipykernel)",
   "language": "python",
   "name": "python3"
  },
  "language_info": {
   "codemirror_mode": {
    "name": "ipython",
    "version": 3
   },
   "file_extension": ".py",
   "mimetype": "text/x-python",
   "name": "python",
   "nbconvert_exporter": "python",
   "pygments_lexer": "ipython3",
   "version": "3.8.10"
  }
 },
 "nbformat": 4,
 "nbformat_minor": 5
}
